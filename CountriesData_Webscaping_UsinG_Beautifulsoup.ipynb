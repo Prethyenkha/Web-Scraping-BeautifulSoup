{
  "nbformat": 4,
  "nbformat_minor": 0,
  "metadata": {
    "colab": {
      "provenance": []
    },
    "kernelspec": {
      "name": "python3",
      "display_name": "Python 3"
    },
    "language_info": {
      "name": "python"
    }
  },
  "cells": [
    {
      "cell_type": "code",
      "execution_count": 21,
      "metadata": {
        "id": "rnl3of2g_PbM"
      },
      "outputs": [],
      "source": [
        "from bs4 import BeautifulSoup as bs\n",
        "#import requests library\n",
        "import requests\n",
        "import pandas as pd\n",
        "from google.colab import files"
      ]
    },
    {
      "cell_type": "code",
      "source": [
        "url = 'https://www.scrapethissite.com/pages/simple/'\n",
        "response = requests.get(url)\n",
        "response"
      ],
      "metadata": {
        "colab": {
          "base_uri": "https://localhost:8080/"
        },
        "id": "UPV6dzXt_Sw1",
        "outputId": "fceaeabc-31cb-4de2-ac02-f57e6b2789d8"
      },
      "execution_count": 22,
      "outputs": [
        {
          "output_type": "execute_result",
          "data": {
            "text/plain": [
              "<Response [200]>"
            ]
          },
          "metadata": {},
          "execution_count": 22
        }
      ]
    },
    {
      "cell_type": "code",
      "source": [
        "soup = bs(response.text)\n",
        "type(soup)\n",
        "soup.find('title').text"
      ],
      "metadata": {
        "colab": {
          "base_uri": "https://localhost:8080/",
          "height": 53
        },
        "id": "mxgymATx_dkp",
        "outputId": "8024cde9-a182-4688-fb2c-f70a8ddfb985"
      },
      "execution_count": 23,
      "outputs": [
        {
          "output_type": "execute_result",
          "data": {
            "text/plain": [
              "'Countries of the World: A Simple Example | Scrape This Site | A public sandbox for learning web scraping'"
            ],
            "application/vnd.google.colaboratory.intrinsic+json": {
              "type": "string"
            }
          },
          "metadata": {},
          "execution_count": 23
        }
      ]
    },
    {
      "cell_type": "code",
      "source": [
        "soup.find_all('div')\n",
        "country_all=soup.find_all('div', class_=\"col-md-4 country\")\n",
        "country_all[:2]"
      ],
      "metadata": {
        "colab": {
          "base_uri": "https://localhost:8080/"
        },
        "id": "O-Uo06c2_e4z",
        "outputId": "d01de27d-b5fd-40ca-c314-a8575dfada98"
      },
      "execution_count": 24,
      "outputs": [
        {
          "output_type": "execute_result",
          "data": {
            "text/plain": [
              "[<div class=\"col-md-4 country\">\n",
              " <h3 class=\"country-name\">\n",
              " <i class=\"flag-icon flag-icon-ad\"></i>\n",
              "                             Andorra\n",
              "                         </h3>\n",
              " <div class=\"country-info\">\n",
              " <strong>Capital:</strong> <span class=\"country-capital\">Andorra la Vella</span><br/>\n",
              " <strong>Population:</strong> <span class=\"country-population\">84000</span><br/>\n",
              " <strong>Area (km<sup>2</sup>):</strong> <span class=\"country-area\">468.0</span><br/>\n",
              " </div>\n",
              " </div>,\n",
              " <div class=\"col-md-4 country\">\n",
              " <h3 class=\"country-name\">\n",
              " <i class=\"flag-icon flag-icon-ae\"></i>\n",
              "                             United Arab Emirates\n",
              "                         </h3>\n",
              " <div class=\"country-info\">\n",
              " <strong>Capital:</strong> <span class=\"country-capital\">Abu Dhabi</span><br/>\n",
              " <strong>Population:</strong> <span class=\"country-population\">4975593</span><br/>\n",
              " <strong>Area (km<sup>2</sup>):</strong> <span class=\"country-area\">82880.0</span><br/>\n",
              " </div>\n",
              " </div>]"
            ]
          },
          "metadata": {},
          "execution_count": 24
        }
      ]
    },
    {
      "source": [
        "from bs4 import BeautifulSoup as bs\n",
        "import requests\n",
        "\n",
        "def get_details(country_one):\n",
        "  country_name = country_one.find('h3', class_='country-name').text.strip()\n",
        "  capital_name = country_one.find('span', class_='country-capital').text\n",
        "  population = country_one.find('span', class_='country-population').text\n",
        "  area = country_one.find('span', class_='country-area').text\n",
        "  return country_name,capital_name, population, area\n",
        "\n",
        "url = 'https://www.scrapethissite.com/pages/simple/'\n",
        "response = requests.get(url)\n",
        "soup = bs(response.text)\n",
        "country_all = soup.find_all('div', class_=\"col-md-4 country\")\n",
        "\n",
        "# Iterate through all countries and print their details\n",
        "for country in country_all:\n",
        "    country_name, capital_name, population, area = get_details(country)\n",
        "    print(country_name, capital_name, population, area)"
      ],
      "cell_type": "code",
      "metadata": {
        "colab": {
          "base_uri": "https://localhost:8080/"
        },
        "id": "0FfVLNvFAcwQ",
        "outputId": "7a409ec4-276b-4e1f-9703-7284fba52578"
      },
      "execution_count": 25,
      "outputs": [
        {
          "output_type": "stream",
          "name": "stdout",
          "text": [
            "Andorra Andorra la Vella 84000 468.0\n",
            "United Arab Emirates Abu Dhabi 4975593 82880.0\n",
            "Afghanistan Kabul 29121286 647500.0\n",
            "Antigua and Barbuda St. John's 86754 443.0\n",
            "Anguilla The Valley 13254 102.0\n",
            "Albania Tirana 2986952 28748.0\n",
            "Armenia Yerevan 2968000 29800.0\n",
            "Angola Luanda 13068161 1246700.0\n",
            "Antarctica None 0 1.4E7\n",
            "Argentina Buenos Aires 41343201 2766890.0\n",
            "American Samoa Pago Pago 57881 199.0\n",
            "Austria Vienna 8205000 83858.0\n",
            "Australia Canberra 21515754 7686850.0\n",
            "Aruba Oranjestad 71566 193.0\n",
            "Åland Mariehamn 26711 1580.0\n",
            "Azerbaijan Baku 8303512 86600.0\n",
            "Bosnia and Herzegovina Sarajevo 4590000 51129.0\n",
            "Barbados Bridgetown 285653 431.0\n",
            "Bangladesh Dhaka 156118464 144000.0\n",
            "Belgium Brussels 10403000 30510.0\n",
            "Burkina Faso Ouagadougou 16241811 274200.0\n",
            "Bulgaria Sofia 7148785 110910.0\n",
            "Bahrain Manama 738004 665.0\n",
            "Burundi Bujumbura 9863117 27830.0\n",
            "Benin Porto-Novo 9056010 112620.0\n",
            "Saint Barthélemy Gustavia 8450 21.0\n",
            "Bermuda Hamilton 65365 53.0\n",
            "Brunei Bandar Seri Begawan 395027 5770.0\n",
            "Bolivia Sucre 9947418 1098580.0\n",
            "Bonaire Kralendijk 18012 328.0\n",
            "Brazil Brasília 201103330 8511965.0\n",
            "Bahamas Nassau 301790 13940.0\n",
            "Bhutan Thimphu 699847 47000.0\n",
            "Bouvet Island None 0 49.0\n",
            "Botswana Gaborone 2029307 600370.0\n",
            "Belarus Minsk 9685000 207600.0\n",
            "Belize Belmopan 314522 22966.0\n",
            "Canada Ottawa 33679000 9984670.0\n",
            "Cocos [Keeling] Islands West Island 628 14.0\n",
            "Democratic Republic of the Congo Kinshasa 70916439 2345410.0\n",
            "Central African Republic Bangui 4844927 622984.0\n",
            "Republic of the Congo Brazzaville 3039126 342000.0\n",
            "Switzerland Bern 7581000 41290.0\n",
            "Ivory Coast Yamoussoukro 21058798 322460.0\n",
            "Cook Islands Avarua 21388 240.0\n",
            "Chile Santiago 16746491 756950.0\n",
            "Cameroon Yaoundé 19294149 475440.0\n",
            "China Beijing 1330044000 9596960.0\n",
            "Colombia Bogotá 47790000 1138910.0\n",
            "Costa Rica San José 4516220 51100.0\n",
            "Cuba Havana 11423000 110860.0\n",
            "Cape Verde Praia 508659 4033.0\n",
            "Curacao Willemstad 141766 444.0\n",
            "Christmas Island Flying Fish Cove 1500 135.0\n",
            "Cyprus Nicosia 1102677 9250.0\n",
            "Czech Republic Prague 10476000 78866.0\n",
            "Germany Berlin 81802257 357021.0\n",
            "Djibouti Djibouti 740528 23000.0\n",
            "Denmark Copenhagen 5484000 43094.0\n",
            "Dominica Roseau 72813 754.0\n",
            "Dominican Republic Santo Domingo 9823821 48730.0\n",
            "Algeria Algiers 34586184 2381740.0\n",
            "Ecuador Quito 14790608 283560.0\n",
            "Estonia Tallinn 1291170 45226.0\n",
            "Egypt Cairo 80471869 1001450.0\n",
            "Western Sahara Laâyoune / El Aaiún 273008 266000.0\n",
            "Eritrea Asmara 5792984 121320.0\n",
            "Spain Madrid 46505963 504782.0\n",
            "Ethiopia Addis Ababa 88013491 1127127.0\n",
            "Finland Helsinki 5244000 337030.0\n",
            "Fiji Suva 875983 18270.0\n",
            "Falkland Islands Stanley 2638 12173.0\n",
            "Micronesia Palikir 107708 702.0\n",
            "Faroe Islands Tórshavn 48228 1399.0\n",
            "France Paris 64768389 547030.0\n",
            "Gabon Libreville 1545255 267667.0\n",
            "United Kingdom London 62348447 244820.0\n",
            "Grenada St. George's 107818 344.0\n",
            "Georgia Tbilisi 4630000 69700.0\n",
            "French Guiana Cayenne 195506 91000.0\n",
            "Guernsey St Peter Port 65228 78.0\n",
            "Ghana Accra 24339838 239460.0\n",
            "Gibraltar Gibraltar 27884 6.5\n",
            "Greenland Nuuk 56375 2166086.0\n",
            "Gambia Bathurst 1593256 11300.0\n",
            "Guinea Conakry 10324025 245857.0\n",
            "Guadeloupe Basse-Terre 443000 1780.0\n",
            "Equatorial Guinea Malabo 1014999 28051.0\n",
            "Greece Athens 11000000 131940.0\n",
            "South Georgia and the South Sandwich Islands Grytviken 30 3903.0\n",
            "Guatemala Guatemala City 13550440 108890.0\n",
            "Guam Hagåtña 159358 549.0\n",
            "Guinea-Bissau Bissau 1565126 36120.0\n",
            "Guyana Georgetown 748486 214970.0\n",
            "Hong Kong Hong Kong 6898686 1092.0\n",
            "Heard Island and McDonald Islands None 0 412.0\n",
            "Honduras Tegucigalpa 7989415 112090.0\n",
            "Croatia Zagreb 4491000 56542.0\n",
            "Haiti Port-au-Prince 9648924 27750.0\n",
            "Hungary Budapest 9982000 93030.0\n",
            "Indonesia Jakarta 242968342 1919440.0\n",
            "Ireland Dublin 4622917 70280.0\n",
            "Israel None 7353985 20770.0\n",
            "Isle of Man Douglas 75049 572.0\n",
            "India New Delhi 1173108018 3287590.0\n",
            "British Indian Ocean Territory None 4000 60.0\n",
            "Iraq Baghdad 29671605 437072.0\n",
            "Iran Tehran 76923300 1648000.0\n",
            "Iceland Reykjavik 308910 103000.0\n",
            "Italy Rome 60340328 301230.0\n",
            "Jersey Saint Helier 90812 116.0\n",
            "Jamaica Kingston 2847232 10991.0\n",
            "Jordan Amman 6407085 92300.0\n",
            "Japan Tokyo 127288000 377835.0\n",
            "Kenya Nairobi 40046566 582650.0\n",
            "Kyrgyzstan Bishkek 5776500 198500.0\n",
            "Cambodia Phnom Penh 14453680 181040.0\n",
            "Kiribati Tarawa 92533 811.0\n",
            "Comoros Moroni 773407 2170.0\n",
            "Saint Kitts and Nevis Basseterre 51134 261.0\n",
            "North Korea Pyongyang 22912177 120540.0\n",
            "South Korea Seoul 48422644 98480.0\n",
            "Kuwait Kuwait City 2789132 17820.0\n",
            "Cayman Islands George Town 44270 262.0\n",
            "Kazakhstan Astana 15340000 2717300.0\n",
            "Laos Vientiane 6368162 236800.0\n",
            "Lebanon Beirut 4125247 10400.0\n",
            "Saint Lucia Castries 160922 616.0\n",
            "Liechtenstein Vaduz 35000 160.0\n",
            "Sri Lanka Colombo 21513990 65610.0\n",
            "Liberia Monrovia 3685076 111370.0\n",
            "Lesotho Maseru 1919552 30355.0\n",
            "Lithuania Vilnius 2944459 65200.0\n",
            "Luxembourg Luxembourg 497538 2586.0\n",
            "Latvia Riga 2217969 64589.0\n",
            "Libya Tripoli 6461454 1759540.0\n",
            "Morocco Rabat 31627428 446550.0\n",
            "Monaco Monaco 32965 1.95\n",
            "Moldova Chişinău 4324000 33843.0\n",
            "Montenegro Podgorica 666730 14026.0\n",
            "Saint Martin Marigot 35925 53.0\n",
            "Madagascar Antananarivo 21281844 587040.0\n",
            "Marshall Islands Majuro 65859 181.3\n",
            "Macedonia Skopje 2062294 25333.0\n",
            "Mali Bamako 13796354 1240000.0\n",
            "Myanmar [Burma] Naypyitaw 53414374 678500.0\n",
            "Mongolia Ulan Bator 3086918 1565000.0\n",
            "Macao Macao 449198 254.0\n",
            "Northern Mariana Islands Saipan 53883 477.0\n",
            "Martinique Fort-de-France 432900 1100.0\n",
            "Mauritania Nouakchott 3205060 1030700.0\n",
            "Montserrat Plymouth 9341 102.0\n",
            "Malta Valletta 403000 316.0\n",
            "Mauritius Port Louis 1294104 2040.0\n",
            "Maldives Malé 395650 300.0\n",
            "Malawi Lilongwe 15447500 118480.0\n",
            "Mexico Mexico City 112468855 1972550.0\n",
            "Malaysia Kuala Lumpur 28274729 329750.0\n",
            "Mozambique Maputo 22061451 801590.0\n",
            "Namibia Windhoek 2128471 825418.0\n",
            "New Caledonia Noumea 216494 19060.0\n",
            "Niger Niamey 15878271 1267000.0\n",
            "Norfolk Island Kingston 1828 34.6\n",
            "Nigeria Abuja 154000000 923768.0\n",
            "Nicaragua Managua 5995928 129494.0\n",
            "Netherlands Amsterdam 16645000 41526.0\n",
            "Norway Oslo 5009150 324220.0\n",
            "Nepal Kathmandu 28951852 140800.0\n",
            "Nauru Yaren 10065 21.0\n",
            "Niue Alofi 2166 260.0\n",
            "New Zealand Wellington 4252277 268680.0\n",
            "Oman Muscat 2967717 212460.0\n",
            "Panama Panama City 3410676 78200.0\n",
            "Peru Lima 29907003 1285220.0\n",
            "French Polynesia Papeete 270485 4167.0\n",
            "Papua New Guinea Port Moresby 6064515 462840.0\n",
            "Philippines Manila 99900177 300000.0\n",
            "Pakistan Islamabad 184404791 803940.0\n",
            "Poland Warsaw 38500000 312685.0\n",
            "Saint Pierre and Miquelon Saint-Pierre 7012 242.0\n",
            "Pitcairn Islands Adamstown 46 47.0\n",
            "Puerto Rico San Juan 3916632 9104.0\n",
            "Palestine None 3800000 5970.0\n",
            "Portugal Lisbon 10676000 92391.0\n",
            "Palau Melekeok 19907 458.0\n",
            "Paraguay Asunción 6375830 406750.0\n",
            "Qatar Doha 840926 11437.0\n",
            "Réunion Saint-Denis 776948 2517.0\n",
            "Romania Bucharest 21959278 237500.0\n",
            "Serbia Belgrade 7344847 88361.0\n",
            "Russia Moscow 140702000 1.71E7\n",
            "Rwanda Kigali 11055976 26338.0\n",
            "Saudi Arabia Riyadh 25731776 1960582.0\n",
            "Solomon Islands Honiara 559198 28450.0\n",
            "Seychelles Victoria 88340 455.0\n",
            "Sudan Khartoum 35000000 1861484.0\n",
            "Sweden Stockholm 9828655 449964.0\n",
            "Singapore Singapore 4701069 692.7\n",
            "Saint Helena Jamestown 7460 410.0\n",
            "Slovenia Ljubljana 2007000 20273.0\n",
            "Svalbard and Jan Mayen Longyearbyen 2550 62049.0\n",
            "Slovakia Bratislava 5455000 48845.0\n",
            "Sierra Leone Freetown 5245695 71740.0\n",
            "San Marino San Marino 31477 61.2\n",
            "Senegal Dakar 12323252 196190.0\n",
            "Somalia Mogadishu 10112453 637657.0\n",
            "Suriname Paramaribo 492829 163270.0\n",
            "South Sudan Juba 8260490 644329.0\n",
            "São Tomé and Príncipe São Tomé 175808 1001.0\n",
            "El Salvador San Salvador 6052064 21040.0\n",
            "Sint Maarten Philipsburg 37429 21.0\n",
            "Syria Damascus 22198110 185180.0\n",
            "Swaziland Mbabane 1354051 17363.0\n",
            "Turks and Caicos Islands Cockburn Town 20556 430.0\n",
            "Chad N'Djamena 10543464 1284000.0\n",
            "French Southern Territories Port-aux-Français 140 7829.0\n",
            "Togo Lomé 6587239 56785.0\n",
            "Thailand Bangkok 67089500 514000.0\n",
            "Tajikistan Dushanbe 7487489 143100.0\n",
            "Tokelau None 1466 10.0\n",
            "East Timor Dili 1154625 15007.0\n",
            "Turkmenistan Ashgabat 4940916 488100.0\n",
            "Tunisia Tunis 10589025 163610.0\n",
            "Tonga Nuku'alofa 122580 748.0\n",
            "Turkey Ankara 77804122 780580.0\n",
            "Trinidad and Tobago Port of Spain 1228691 5128.0\n",
            "Tuvalu Funafuti 10472 26.0\n",
            "Taiwan Taipei 22894384 35980.0\n",
            "Tanzania Dodoma 41892895 945087.0\n",
            "Ukraine Kiev 45415596 603700.0\n",
            "Uganda Kampala 33398682 236040.0\n",
            "U.S. Minor Outlying Islands None 0 0.0\n",
            "United States Washington 310232863 9629091.0\n",
            "Uruguay Montevideo 3477000 176220.0\n",
            "Uzbekistan Tashkent 27865738 447400.0\n",
            "Vatican City Vatican City 921 0.44\n",
            "Saint Vincent and the Grenadines Kingstown 104217 389.0\n",
            "Venezuela Caracas 27223228 912050.0\n",
            "British Virgin Islands Road Town 21730 153.0\n",
            "U.S. Virgin Islands Charlotte Amalie 108708 352.0\n",
            "Vietnam Hanoi 89571130 329560.0\n",
            "Vanuatu Port Vila 221552 12200.0\n",
            "Wallis and Futuna Mata-Utu 16025 274.0\n",
            "Samoa Apia 192001 2944.0\n",
            "Kosovo Pristina 1800000 10908.0\n",
            "Yemen Sanaa 23495361 527970.0\n",
            "Mayotte Mamoudzou 159042 374.0\n",
            "South Africa Pretoria 49000000 1219912.0\n",
            "Zambia Lusaka 13460305 752614.0\n",
            "Zimbabwe Harare 11651858 390580.0\n"
          ]
        }
      ]
    },
    {
      "cell_type": "code",
      "source": [
        "import pandas as pd\n",
        "\n",
        "df = pd.DataFrame(countries, columns=['Country', 'Capital', 'Population', 'Area'])\n",
        "\n",
        "print(df)"
      ],
      "metadata": {
        "colab": {
          "base_uri": "https://localhost:8080/"
        },
        "id": "YZZj83vcAhtZ",
        "outputId": "6a44b2cc-cd36-4b88-e971-39c2c3efc961"
      },
      "execution_count": 27,
      "outputs": [
        {
          "output_type": "stream",
          "name": "stdout",
          "text": [
            "                  Country           Capital Population       Area\n",
            "0                 Andorra  Andorra la Vella      84000      468.0\n",
            "1    United Arab Emirates         Abu Dhabi    4975593    82880.0\n",
            "2             Afghanistan             Kabul   29121286   647500.0\n",
            "3     Antigua and Barbuda        St. John's      86754      443.0\n",
            "4                Anguilla        The Valley      13254      102.0\n",
            "..                    ...               ...        ...        ...\n",
            "245                 Yemen             Sanaa   23495361   527970.0\n",
            "246               Mayotte         Mamoudzou     159042      374.0\n",
            "247          South Africa          Pretoria   49000000  1219912.0\n",
            "248                Zambia            Lusaka   13460305   752614.0\n",
            "249              Zimbabwe            Harare   11651858   390580.0\n",
            "\n",
            "[250 rows x 4 columns]\n"
          ]
        }
      ]
    },
    {
      "cell_type": "code",
      "source": [
        "countries = []\n",
        "for country in country_all:\n",
        "    country_details = get_details(country)\n",
        "    countries.append(country_details)\n",
        "\n",
        "# Create a Pandas DataFrame\n",
        "df = pd.DataFrame(countries, columns=['Country', 'Capital', 'Population', 'Area'])\n",
        "\n",
        "# Save to CSV\n",
        "df.to_csv('countries_data.csv', index=False)\n",
        "print(\"Data saved to countries_data.csv\")\n",
        "\n",
        "# Download the CSV file\n",
        "files.download('countries_data.csv')"
      ],
      "metadata": {
        "colab": {
          "base_uri": "https://localhost:8080/",
          "height": 34
        },
        "id": "8_kP4oWbDUql",
        "outputId": "7163635c-54f1-4755-fb4d-976d3db05e44"
      },
      "execution_count": 28,
      "outputs": [
        {
          "output_type": "stream",
          "name": "stdout",
          "text": [
            "Data saved to countries_data.csv\n"
          ]
        },
        {
          "output_type": "display_data",
          "data": {
            "text/plain": [
              "<IPython.core.display.Javascript object>"
            ],
            "application/javascript": [
              "\n",
              "    async function download(id, filename, size) {\n",
              "      if (!google.colab.kernel.accessAllowed) {\n",
              "        return;\n",
              "      }\n",
              "      const div = document.createElement('div');\n",
              "      const label = document.createElement('label');\n",
              "      label.textContent = `Downloading \"${filename}\": `;\n",
              "      div.appendChild(label);\n",
              "      const progress = document.createElement('progress');\n",
              "      progress.max = size;\n",
              "      div.appendChild(progress);\n",
              "      document.body.appendChild(div);\n",
              "\n",
              "      const buffers = [];\n",
              "      let downloaded = 0;\n",
              "\n",
              "      const channel = await google.colab.kernel.comms.open(id);\n",
              "      // Send a message to notify the kernel that we're ready.\n",
              "      channel.send({})\n",
              "\n",
              "      for await (const message of channel.messages) {\n",
              "        // Send a message to notify the kernel that we're ready.\n",
              "        channel.send({})\n",
              "        if (message.buffers) {\n",
              "          for (const buffer of message.buffers) {\n",
              "            buffers.push(buffer);\n",
              "            downloaded += buffer.byteLength;\n",
              "            progress.value = downloaded;\n",
              "          }\n",
              "        }\n",
              "      }\n",
              "      const blob = new Blob(buffers, {type: 'application/binary'});\n",
              "      const a = document.createElement('a');\n",
              "      a.href = window.URL.createObjectURL(blob);\n",
              "      a.download = filename;\n",
              "      div.appendChild(a);\n",
              "      a.click();\n",
              "      div.remove();\n",
              "    }\n",
              "  "
            ]
          },
          "metadata": {}
        },
        {
          "output_type": "display_data",
          "data": {
            "text/plain": [
              "<IPython.core.display.Javascript object>"
            ],
            "application/javascript": [
              "download(\"download_9cb371bd-49a8-4331-86b2-0541608455d9\", \"countries_data.csv\", 8842)"
            ]
          },
          "metadata": {}
        }
      ]
    }
  ]
}